{
  "nbformat": 4,
  "nbformat_minor": 0,
  "metadata": {
    "colab": {
      "name": "banks loan division.ipynb",
      "provenance": [],
      "authorship_tag": "ABX9TyNPEE3DJ2Ew2QT3cfZCAHLf",
      "include_colab_link": true
    },
    "kernelspec": {
      "name": "python3",
      "display_name": "Python 3"
    },
    "language_info": {
      "name": "python"
    }
  },
  "cells": [
    {
      "cell_type": "markdown",
      "metadata": {
        "id": "view-in-github",
        "colab_type": "text"
      },
      "source": [
        "<a href=\"https://colab.research.google.com/github/karind7/syncare_app/blob/master/banks_loan_division.ipynb\" target=\"_parent\"><img src=\"https://colab.research.google.com/assets/colab-badge.svg\" alt=\"Open In Colab\"/></a>"
      ]
    },
    {
      "cell_type": "markdown",
      "metadata": {
        "id": "EFdkHXg7sHcU"
      },
      "source": [
        "# **Step 1: Open the data file and have a look at the general information**"
      ]
    },
    {
      "cell_type": "code",
      "metadata": {
        "id": "Iy5jVcz8QLKp"
      },
      "source": [
        "import pandas as pd\n",
        "from nltk.stem import SnowballStemmer\n",
        "import matplotlib as plt\n",
        "english_stemmer = SnowballStemmer('english')"
      ],
      "execution_count": 1,
      "outputs": []
    },
    {
      "cell_type": "code",
      "metadata": {
        "id": "vK9i7rd_9uOv"
      },
      "source": [
        "try:\n",
        "  data = pd.read_csv(\"/content/credit_scoring_eng.csv\")\n",
        "except:\n",
        "  data = pd.read_csv(\"/datasets/credit_scoring_eng.csv\")"
      ],
      "execution_count": 2,
      "outputs": []
    },
    {
      "cell_type": "code",
      "metadata": {
        "id": "dgEvcO5l-JRE",
        "colab": {
          "base_uri": "https://localhost:8080/"
        },
        "outputId": "b3f77b9f-a76e-411f-f85d-2829c0edfc0e"
      },
      "source": [
        "data.info()\n",
        "#only null values in days_employed  and total_income \n",
        "#lets check for a connection as the number of missing valuse is the same"
      ],
      "execution_count": 3,
      "outputs": [
        {
          "output_type": "stream",
          "text": [
            "<class 'pandas.core.frame.DataFrame'>\n",
            "RangeIndex: 21525 entries, 0 to 21524\n",
            "Data columns (total 12 columns):\n",
            " #   Column            Non-Null Count  Dtype  \n",
            "---  ------            --------------  -----  \n",
            " 0   children          21525 non-null  int64  \n",
            " 1   days_employed     19351 non-null  float64\n",
            " 2   dob_years         21525 non-null  int64  \n",
            " 3   education         21525 non-null  object \n",
            " 4   education_id      21525 non-null  int64  \n",
            " 5   family_status     21525 non-null  object \n",
            " 6   family_status_id  21525 non-null  int64  \n",
            " 7   gender            21525 non-null  object \n",
            " 8   income_type       21525 non-null  object \n",
            " 9   debt              21525 non-null  int64  \n",
            " 10  total_income      19351 non-null  float64\n",
            " 11  purpose           21525 non-null  object \n",
            "dtypes: float64(2), int64(5), object(5)\n",
            "memory usage: 2.0+ MB\n"
          ],
          "name": "stdout"
        }
      ]
    },
    {
      "cell_type": "code",
      "metadata": {
        "id": "emNJQu-9-rCe",
        "colab": {
          "base_uri": "https://localhost:8080/",
          "height": 297
        },
        "outputId": "ea1a8079-6708-4940-87b3-9658e6e930cf"
      },
      "source": [
        "data.describe()"
      ],
      "execution_count": 4,
      "outputs": [
        {
          "output_type": "execute_result",
          "data": {
            "text/html": [
              "<div>\n",
              "<style scoped>\n",
              "    .dataframe tbody tr th:only-of-type {\n",
              "        vertical-align: middle;\n",
              "    }\n",
              "\n",
              "    .dataframe tbody tr th {\n",
              "        vertical-align: top;\n",
              "    }\n",
              "\n",
              "    .dataframe thead th {\n",
              "        text-align: right;\n",
              "    }\n",
              "</style>\n",
              "<table border=\"1\" class=\"dataframe\">\n",
              "  <thead>\n",
              "    <tr style=\"text-align: right;\">\n",
              "      <th></th>\n",
              "      <th>children</th>\n",
              "      <th>days_employed</th>\n",
              "      <th>dob_years</th>\n",
              "      <th>education_id</th>\n",
              "      <th>family_status_id</th>\n",
              "      <th>debt</th>\n",
              "      <th>total_income</th>\n",
              "    </tr>\n",
              "  </thead>\n",
              "  <tbody>\n",
              "    <tr>\n",
              "      <th>count</th>\n",
              "      <td>21525.000000</td>\n",
              "      <td>19351.000000</td>\n",
              "      <td>21525.000000</td>\n",
              "      <td>21525.000000</td>\n",
              "      <td>21525.000000</td>\n",
              "      <td>21525.000000</td>\n",
              "      <td>19351.000000</td>\n",
              "    </tr>\n",
              "    <tr>\n",
              "      <th>mean</th>\n",
              "      <td>0.538908</td>\n",
              "      <td>63046.497661</td>\n",
              "      <td>43.293380</td>\n",
              "      <td>0.817236</td>\n",
              "      <td>0.972544</td>\n",
              "      <td>0.080883</td>\n",
              "      <td>26787.568355</td>\n",
              "    </tr>\n",
              "    <tr>\n",
              "      <th>std</th>\n",
              "      <td>1.381587</td>\n",
              "      <td>140827.311974</td>\n",
              "      <td>12.574584</td>\n",
              "      <td>0.548138</td>\n",
              "      <td>1.420324</td>\n",
              "      <td>0.272661</td>\n",
              "      <td>16475.450632</td>\n",
              "    </tr>\n",
              "    <tr>\n",
              "      <th>min</th>\n",
              "      <td>-1.000000</td>\n",
              "      <td>-18388.949901</td>\n",
              "      <td>0.000000</td>\n",
              "      <td>0.000000</td>\n",
              "      <td>0.000000</td>\n",
              "      <td>0.000000</td>\n",
              "      <td>3306.762000</td>\n",
              "    </tr>\n",
              "    <tr>\n",
              "      <th>25%</th>\n",
              "      <td>0.000000</td>\n",
              "      <td>-2747.423625</td>\n",
              "      <td>33.000000</td>\n",
              "      <td>1.000000</td>\n",
              "      <td>0.000000</td>\n",
              "      <td>0.000000</td>\n",
              "      <td>16488.504500</td>\n",
              "    </tr>\n",
              "    <tr>\n",
              "      <th>50%</th>\n",
              "      <td>0.000000</td>\n",
              "      <td>-1203.369529</td>\n",
              "      <td>42.000000</td>\n",
              "      <td>1.000000</td>\n",
              "      <td>0.000000</td>\n",
              "      <td>0.000000</td>\n",
              "      <td>23202.870000</td>\n",
              "    </tr>\n",
              "    <tr>\n",
              "      <th>75%</th>\n",
              "      <td>1.000000</td>\n",
              "      <td>-291.095954</td>\n",
              "      <td>53.000000</td>\n",
              "      <td>1.000000</td>\n",
              "      <td>1.000000</td>\n",
              "      <td>0.000000</td>\n",
              "      <td>32549.611000</td>\n",
              "    </tr>\n",
              "    <tr>\n",
              "      <th>max</th>\n",
              "      <td>20.000000</td>\n",
              "      <td>401755.400475</td>\n",
              "      <td>75.000000</td>\n",
              "      <td>4.000000</td>\n",
              "      <td>4.000000</td>\n",
              "      <td>1.000000</td>\n",
              "      <td>362496.645000</td>\n",
              "    </tr>\n",
              "  </tbody>\n",
              "</table>\n",
              "</div>"
            ],
            "text/plain": [
              "           children  days_employed  ...          debt   total_income\n",
              "count  21525.000000   19351.000000  ...  21525.000000   19351.000000\n",
              "mean       0.538908   63046.497661  ...      0.080883   26787.568355\n",
              "std        1.381587  140827.311974  ...      0.272661   16475.450632\n",
              "min       -1.000000  -18388.949901  ...      0.000000    3306.762000\n",
              "25%        0.000000   -2747.423625  ...      0.000000   16488.504500\n",
              "50%        0.000000   -1203.369529  ...      0.000000   23202.870000\n",
              "75%        1.000000    -291.095954  ...      0.000000   32549.611000\n",
              "max       20.000000  401755.400475  ...      1.000000  362496.645000\n",
              "\n",
              "[8 rows x 7 columns]"
            ]
          },
          "metadata": {
            "tags": []
          },
          "execution_count": 4
        }
      ]
    },
    {
      "cell_type": "code",
      "metadata": {
        "id": "ZjV2GKt8-q9P",
        "colab": {
          "base_uri": "https://localhost:8080/",
          "height": 359
        },
        "outputId": "5cb793ea-0c0c-447e-c8e2-9840147fcb0e"
      },
      "source": [
        "data.head(10)"
      ],
      "execution_count": 5,
      "outputs": [
        {
          "output_type": "execute_result",
          "data": {
            "text/html": [
              "<div>\n",
              "<style scoped>\n",
              "    .dataframe tbody tr th:only-of-type {\n",
              "        vertical-align: middle;\n",
              "    }\n",
              "\n",
              "    .dataframe tbody tr th {\n",
              "        vertical-align: top;\n",
              "    }\n",
              "\n",
              "    .dataframe thead th {\n",
              "        text-align: right;\n",
              "    }\n",
              "</style>\n",
              "<table border=\"1\" class=\"dataframe\">\n",
              "  <thead>\n",
              "    <tr style=\"text-align: right;\">\n",
              "      <th></th>\n",
              "      <th>children</th>\n",
              "      <th>days_employed</th>\n",
              "      <th>dob_years</th>\n",
              "      <th>education</th>\n",
              "      <th>education_id</th>\n",
              "      <th>family_status</th>\n",
              "      <th>family_status_id</th>\n",
              "      <th>gender</th>\n",
              "      <th>income_type</th>\n",
              "      <th>debt</th>\n",
              "      <th>total_income</th>\n",
              "      <th>purpose</th>\n",
              "    </tr>\n",
              "  </thead>\n",
              "  <tbody>\n",
              "    <tr>\n",
              "      <th>0</th>\n",
              "      <td>1</td>\n",
              "      <td>-8437.673028</td>\n",
              "      <td>42</td>\n",
              "      <td>bachelor's degree</td>\n",
              "      <td>0</td>\n",
              "      <td>married</td>\n",
              "      <td>0</td>\n",
              "      <td>F</td>\n",
              "      <td>employee</td>\n",
              "      <td>0</td>\n",
              "      <td>40620.102</td>\n",
              "      <td>purchase of the house</td>\n",
              "    </tr>\n",
              "    <tr>\n",
              "      <th>1</th>\n",
              "      <td>1</td>\n",
              "      <td>-4024.803754</td>\n",
              "      <td>36</td>\n",
              "      <td>secondary education</td>\n",
              "      <td>1</td>\n",
              "      <td>married</td>\n",
              "      <td>0</td>\n",
              "      <td>F</td>\n",
              "      <td>employee</td>\n",
              "      <td>0</td>\n",
              "      <td>17932.802</td>\n",
              "      <td>car purchase</td>\n",
              "    </tr>\n",
              "    <tr>\n",
              "      <th>2</th>\n",
              "      <td>0</td>\n",
              "      <td>-5623.422610</td>\n",
              "      <td>33</td>\n",
              "      <td>Secondary Education</td>\n",
              "      <td>1</td>\n",
              "      <td>married</td>\n",
              "      <td>0</td>\n",
              "      <td>M</td>\n",
              "      <td>employee</td>\n",
              "      <td>0</td>\n",
              "      <td>23341.752</td>\n",
              "      <td>purchase of the house</td>\n",
              "    </tr>\n",
              "    <tr>\n",
              "      <th>3</th>\n",
              "      <td>3</td>\n",
              "      <td>-4124.747207</td>\n",
              "      <td>32</td>\n",
              "      <td>secondary education</td>\n",
              "      <td>1</td>\n",
              "      <td>married</td>\n",
              "      <td>0</td>\n",
              "      <td>M</td>\n",
              "      <td>employee</td>\n",
              "      <td>0</td>\n",
              "      <td>42820.568</td>\n",
              "      <td>supplementary education</td>\n",
              "    </tr>\n",
              "    <tr>\n",
              "      <th>4</th>\n",
              "      <td>0</td>\n",
              "      <td>340266.072047</td>\n",
              "      <td>53</td>\n",
              "      <td>secondary education</td>\n",
              "      <td>1</td>\n",
              "      <td>civil partnership</td>\n",
              "      <td>1</td>\n",
              "      <td>F</td>\n",
              "      <td>retiree</td>\n",
              "      <td>0</td>\n",
              "      <td>25378.572</td>\n",
              "      <td>to have a wedding</td>\n",
              "    </tr>\n",
              "    <tr>\n",
              "      <th>5</th>\n",
              "      <td>0</td>\n",
              "      <td>-926.185831</td>\n",
              "      <td>27</td>\n",
              "      <td>bachelor's degree</td>\n",
              "      <td>0</td>\n",
              "      <td>civil partnership</td>\n",
              "      <td>1</td>\n",
              "      <td>M</td>\n",
              "      <td>business</td>\n",
              "      <td>0</td>\n",
              "      <td>40922.170</td>\n",
              "      <td>purchase of the house</td>\n",
              "    </tr>\n",
              "    <tr>\n",
              "      <th>6</th>\n",
              "      <td>0</td>\n",
              "      <td>-2879.202052</td>\n",
              "      <td>43</td>\n",
              "      <td>bachelor's degree</td>\n",
              "      <td>0</td>\n",
              "      <td>married</td>\n",
              "      <td>0</td>\n",
              "      <td>F</td>\n",
              "      <td>business</td>\n",
              "      <td>0</td>\n",
              "      <td>38484.156</td>\n",
              "      <td>housing transactions</td>\n",
              "    </tr>\n",
              "    <tr>\n",
              "      <th>7</th>\n",
              "      <td>0</td>\n",
              "      <td>-152.779569</td>\n",
              "      <td>50</td>\n",
              "      <td>SECONDARY EDUCATION</td>\n",
              "      <td>1</td>\n",
              "      <td>married</td>\n",
              "      <td>0</td>\n",
              "      <td>M</td>\n",
              "      <td>employee</td>\n",
              "      <td>0</td>\n",
              "      <td>21731.829</td>\n",
              "      <td>education</td>\n",
              "    </tr>\n",
              "    <tr>\n",
              "      <th>8</th>\n",
              "      <td>2</td>\n",
              "      <td>-6929.865299</td>\n",
              "      <td>35</td>\n",
              "      <td>BACHELOR'S DEGREE</td>\n",
              "      <td>0</td>\n",
              "      <td>civil partnership</td>\n",
              "      <td>1</td>\n",
              "      <td>F</td>\n",
              "      <td>employee</td>\n",
              "      <td>0</td>\n",
              "      <td>15337.093</td>\n",
              "      <td>having a wedding</td>\n",
              "    </tr>\n",
              "    <tr>\n",
              "      <th>9</th>\n",
              "      <td>0</td>\n",
              "      <td>-2188.756445</td>\n",
              "      <td>41</td>\n",
              "      <td>secondary education</td>\n",
              "      <td>1</td>\n",
              "      <td>married</td>\n",
              "      <td>0</td>\n",
              "      <td>M</td>\n",
              "      <td>employee</td>\n",
              "      <td>0</td>\n",
              "      <td>23108.150</td>\n",
              "      <td>purchase of the house for my family</td>\n",
              "    </tr>\n",
              "  </tbody>\n",
              "</table>\n",
              "</div>"
            ],
            "text/plain": [
              "   children  days_employed  ...  total_income                              purpose\n",
              "0         1   -8437.673028  ...     40620.102                purchase of the house\n",
              "1         1   -4024.803754  ...     17932.802                         car purchase\n",
              "2         0   -5623.422610  ...     23341.752                purchase of the house\n",
              "3         3   -4124.747207  ...     42820.568              supplementary education\n",
              "4         0  340266.072047  ...     25378.572                    to have a wedding\n",
              "5         0    -926.185831  ...     40922.170                purchase of the house\n",
              "6         0   -2879.202052  ...     38484.156                 housing transactions\n",
              "7         0    -152.779569  ...     21731.829                            education\n",
              "8         2   -6929.865299  ...     15337.093                     having a wedding\n",
              "9         0   -2188.756445  ...     23108.150  purchase of the house for my family\n",
              "\n",
              "[10 rows x 12 columns]"
            ]
          },
          "metadata": {
            "tags": []
          },
          "execution_count": 5
        }
      ]
    },
    {
      "cell_type": "markdown",
      "metadata": {
        "id": "6J2uMFLlg4Pz"
      },
      "source": [
        "# **conclusion:**\n",
        "\n",
        "\n",
        "1.   nagative days employed and as i dont use it for my data summary i will remove this column\n",
        "2.   -1 children that i need to change\n",
        "4. probbly no one  has 20 children, change to 50% \n",
        "3. none in total income\tso i will change it to the median\n",
        "4. change education to low case\n",
        "5. alter purpose for easy categorization\n",
        "\n"
      ]
    },
    {
      "cell_type": "markdown",
      "metadata": {
        "id": "Pz2NZqk2sdG1"
      },
      "source": [
        "# **Step 2: Preprocess the data**"
      ]
    },
    {
      "cell_type": "code",
      "metadata": {
        "id": "wwDA31qJinCH"
      },
      "source": [
        "#remove non usable data\n",
        "data = data.drop('days_employed', 1)"
      ],
      "execution_count": 6,
      "outputs": []
    },
    {
      "cell_type": "code",
      "metadata": {
        "id": "tuGV1M0ukwLL"
      },
      "source": [
        "#let's check total income median by income type\n",
        "income_grop = data.groupby(\"income_type\")[\"total_income\"].median()"
      ],
      "execution_count": 7,
      "outputs": []
    },
    {
      "cell_type": "code",
      "metadata": {
        "id": "GwIgXKCnlTg9"
      },
      "source": [
        "# a funcshen that changes non in total income to the income type median\n",
        "def income(row):\n",
        "  income = row[\"total_income\"]\n",
        "  if pd.isnull(income):\n",
        "    return income_grop[row[\"income_type\"]]\n",
        "  else:\n",
        "    return row[\"total_income\"]\n",
        "\n",
        "data[\"total_income\"] = data.apply(income, axis=1)\n"
      ],
      "execution_count": 8,
      "outputs": []
    },
    {
      "cell_type": "code",
      "metadata": {
        "id": "XkwTUSW_FvFl",
        "colab": {
          "base_uri": "https://localhost:8080/"
        },
        "outputId": "5b3a7751-10f9-440b-b4e7-f7bbbdf89ef3"
      },
      "source": [
        "data.loc[data[\"children\"]< 0][\"children\"].count()\n",
        "#there are 47 rows with -1 children\n"
      ],
      "execution_count": 9,
      "outputs": [
        {
          "output_type": "execute_result",
          "data": {
            "text/plain": [
              "47"
            ]
          },
          "metadata": {
            "tags": []
          },
          "execution_count": 9
        }
      ]
    },
    {
      "cell_type": "code",
      "metadata": {
        "id": "nFiOhCToa00v",
        "colab": {
          "base_uri": "https://localhost:8080/"
        },
        "outputId": "ae25cc04-14e3-46e2-9832-e3e561fed24e"
      },
      "source": [
        "data.loc[data[\"children\"] == 20][\"children\"].count()\n",
        "#there are 76 rows with 20 children"
      ],
      "execution_count": 10,
      "outputs": [
        {
          "output_type": "execute_result",
          "data": {
            "text/plain": [
              "76"
            ]
          },
          "metadata": {
            "tags": []
          },
          "execution_count": 10
        }
      ]
    },
    {
      "cell_type": "code",
      "metadata": {
        "id": "nKzI_OrlZqRY",
        "colab": {
          "base_uri": "https://localhost:8080/",
          "height": 297
        },
        "outputId": "2da042fd-4730-4bb0-993a-0879721741c3"
      },
      "source": [
        "data.loc[data[\"children\"] != 20].loc[data[\"children\"] > 0].describe()\n"
      ],
      "execution_count": 11,
      "outputs": [
        {
          "output_type": "execute_result",
          "data": {
            "text/html": [
              "<div>\n",
              "<style scoped>\n",
              "    .dataframe tbody tr th:only-of-type {\n",
              "        vertical-align: middle;\n",
              "    }\n",
              "\n",
              "    .dataframe tbody tr th {\n",
              "        vertical-align: top;\n",
              "    }\n",
              "\n",
              "    .dataframe thead th {\n",
              "        text-align: right;\n",
              "    }\n",
              "</style>\n",
              "<table border=\"1\" class=\"dataframe\">\n",
              "  <thead>\n",
              "    <tr style=\"text-align: right;\">\n",
              "      <th></th>\n",
              "      <th>children</th>\n",
              "      <th>dob_years</th>\n",
              "      <th>education_id</th>\n",
              "      <th>family_status_id</th>\n",
              "      <th>debt</th>\n",
              "      <th>total_income</th>\n",
              "    </tr>\n",
              "  </thead>\n",
              "  <tbody>\n",
              "    <tr>\n",
              "      <th>count</th>\n",
              "      <td>7253.000000</td>\n",
              "      <td>7253.000000</td>\n",
              "      <td>7253.000000</td>\n",
              "      <td>7253.000000</td>\n",
              "      <td>7253.000000</td>\n",
              "      <td>7253.000000</td>\n",
              "    </tr>\n",
              "    <tr>\n",
              "      <th>mean</th>\n",
              "      <td>1.396250</td>\n",
              "      <td>37.523508</td>\n",
              "      <td>0.789604</td>\n",
              "      <td>0.684820</td>\n",
              "      <td>0.092238</td>\n",
              "      <td>27162.092299</td>\n",
              "    </tr>\n",
              "    <tr>\n",
              "      <th>std</th>\n",
              "      <td>0.615705</td>\n",
              "      <td>9.065211</td>\n",
              "      <td>0.562789</td>\n",
              "      <td>1.209649</td>\n",
              "      <td>0.289381</td>\n",
              "      <td>16674.100991</td>\n",
              "    </tr>\n",
              "    <tr>\n",
              "      <th>min</th>\n",
              "      <td>1.000000</td>\n",
              "      <td>0.000000</td>\n",
              "      <td>0.000000</td>\n",
              "      <td>0.000000</td>\n",
              "      <td>0.000000</td>\n",
              "      <td>3418.824000</td>\n",
              "    </tr>\n",
              "    <tr>\n",
              "      <th>25%</th>\n",
              "      <td>1.000000</td>\n",
              "      <td>31.000000</td>\n",
              "      <td>0.000000</td>\n",
              "      <td>0.000000</td>\n",
              "      <td>0.000000</td>\n",
              "      <td>17672.203000</td>\n",
              "    </tr>\n",
              "    <tr>\n",
              "      <th>50%</th>\n",
              "      <td>1.000000</td>\n",
              "      <td>37.000000</td>\n",
              "      <td>1.000000</td>\n",
              "      <td>0.000000</td>\n",
              "      <td>0.000000</td>\n",
              "      <td>23096.777000</td>\n",
              "    </tr>\n",
              "    <tr>\n",
              "      <th>75%</th>\n",
              "      <td>2.000000</td>\n",
              "      <td>42.000000</td>\n",
              "      <td>1.000000</td>\n",
              "      <td>1.000000</td>\n",
              "      <td>0.000000</td>\n",
              "      <td>31769.100000</td>\n",
              "    </tr>\n",
              "    <tr>\n",
              "      <th>max</th>\n",
              "      <td>5.000000</td>\n",
              "      <td>73.000000</td>\n",
              "      <td>4.000000</td>\n",
              "      <td>4.000000</td>\n",
              "      <td>1.000000</td>\n",
              "      <td>352136.354000</td>\n",
              "    </tr>\n",
              "  </tbody>\n",
              "</table>\n",
              "</div>"
            ],
            "text/plain": [
              "          children    dob_years  ...         debt   total_income\n",
              "count  7253.000000  7253.000000  ...  7253.000000    7253.000000\n",
              "mean      1.396250    37.523508  ...     0.092238   27162.092299\n",
              "std       0.615705     9.065211  ...     0.289381   16674.100991\n",
              "min       1.000000     0.000000  ...     0.000000    3418.824000\n",
              "25%       1.000000    31.000000  ...     0.000000   17672.203000\n",
              "50%       1.000000    37.000000  ...     0.000000   23096.777000\n",
              "75%       2.000000    42.000000  ...     0.000000   31769.100000\n",
              "max       5.000000    73.000000  ...     1.000000  352136.354000\n",
              "\n",
              "[8 rows x 6 columns]"
            ]
          },
          "metadata": {
            "tags": []
          },
          "execution_count": 11
        }
      ]
    },
    {
      "cell_type": "code",
      "metadata": {
        "id": "khJ6dQbSZFRW"
      },
      "source": [
        "data.loc[data[\"children\"] < 0,\"children\"] = 1\n",
        "data.loc[data[\"children\"] == 20, \"children\"] = 2\n",
        "#changing the -1 children to 1 and the 20 children to 2"
      ],
      "execution_count": 12,
      "outputs": []
    },
    {
      "cell_type": "code",
      "metadata": {
        "id": "9GOiReyfa485",
        "colab": {
          "base_uri": "https://localhost:8080/",
          "height": 49
        },
        "outputId": "3f2f1cc0-1b44-4235-f1a4-579727512771"
      },
      "source": [
        "#lets see if it workd\n",
        "data.loc[data[\"children\"] == 20].loc[data[\"children\"] < 0]"
      ],
      "execution_count": 13,
      "outputs": [
        {
          "output_type": "execute_result",
          "data": {
            "text/html": [
              "<div>\n",
              "<style scoped>\n",
              "    .dataframe tbody tr th:only-of-type {\n",
              "        vertical-align: middle;\n",
              "    }\n",
              "\n",
              "    .dataframe tbody tr th {\n",
              "        vertical-align: top;\n",
              "    }\n",
              "\n",
              "    .dataframe thead th {\n",
              "        text-align: right;\n",
              "    }\n",
              "</style>\n",
              "<table border=\"1\" class=\"dataframe\">\n",
              "  <thead>\n",
              "    <tr style=\"text-align: right;\">\n",
              "      <th></th>\n",
              "      <th>children</th>\n",
              "      <th>dob_years</th>\n",
              "      <th>education</th>\n",
              "      <th>education_id</th>\n",
              "      <th>family_status</th>\n",
              "      <th>family_status_id</th>\n",
              "      <th>gender</th>\n",
              "      <th>income_type</th>\n",
              "      <th>debt</th>\n",
              "      <th>total_income</th>\n",
              "      <th>purpose</th>\n",
              "    </tr>\n",
              "  </thead>\n",
              "  <tbody>\n",
              "  </tbody>\n",
              "</table>\n",
              "</div>"
            ],
            "text/plain": [
              "Empty DataFrame\n",
              "Columns: [children, dob_years, education, education_id, family_status, family_status_id, gender, income_type, debt, total_income, purpose]\n",
              "Index: []"
            ]
          },
          "metadata": {
            "tags": []
          },
          "execution_count": 13
        }
      ]
    },
    {
      "cell_type": "code",
      "metadata": {
        "id": "-L2DLbGByqze",
        "colab": {
          "base_uri": "https://localhost:8080/"
        },
        "outputId": "d773edc3-0e85-4ba9-caa1-4e2f05937761"
      },
      "source": [
        "data[\"purpose\"].unique()"
      ],
      "execution_count": 14,
      "outputs": [
        {
          "output_type": "execute_result",
          "data": {
            "text/plain": [
              "array(['purchase of the house', 'car purchase', 'supplementary education',\n",
              "       'to have a wedding', 'housing transactions', 'education',\n",
              "       'having a wedding', 'purchase of the house for my family',\n",
              "       'buy real estate', 'buy commercial real estate',\n",
              "       'buy residential real estate', 'construction of own property',\n",
              "       'property', 'building a property', 'buying a second-hand car',\n",
              "       'buying my own car', 'transactions with commercial real estate',\n",
              "       'building a real estate', 'housing',\n",
              "       'transactions with my real estate', 'cars', 'to become educated',\n",
              "       'second-hand car purchase', 'getting an education', 'car',\n",
              "       'wedding ceremony', 'to get a supplementary education',\n",
              "       'purchase of my own house', 'real estate transactions',\n",
              "       'getting higher education', 'to own a car', 'purchase of a car',\n",
              "       'profile education', 'university education',\n",
              "       'buying property for renting out', 'to buy a car',\n",
              "       'housing renovation', 'going to university'], dtype=object)"
            ]
          },
          "metadata": {
            "tags": []
          },
          "execution_count": 14
        }
      ]
    },
    {
      "cell_type": "code",
      "metadata": {
        "id": "SYmPwKhrHjcO",
        "colab": {
          "base_uri": "https://localhost:8080/"
        },
        "outputId": "a61d7d2d-6fea-4e50-9c30-7e3a0ebbdfa7"
      },
      "source": [
        "# unifying the education column to lowercase\n",
        "data[\"education\"] = data[\"education\"].str.lower()\n",
        "data[\"education\"].unique()"
      ],
      "execution_count": 15,
      "outputs": [
        {
          "output_type": "execute_result",
          "data": {
            "text/plain": [
              "array([\"bachelor's degree\", 'secondary education', 'some college',\n",
              "       'primary education', 'graduate degree'], dtype=object)"
            ]
          },
          "metadata": {
            "tags": []
          },
          "execution_count": 15
        }
      ]
    },
    {
      "cell_type": "code",
      "metadata": {
        "id": "y4TUzsCLtQeB"
      },
      "source": [
        "#a function that takes a list and returns a list with only the unique values\n",
        "def unique(list1):\n",
        "    unique_list = []\n",
        "    for x in list1:\n",
        "        if x not in unique_list:\n",
        "            unique_list.append(x)\n",
        "    return unique_list"
      ],
      "execution_count": 16,
      "outputs": []
    },
    {
      "cell_type": "code",
      "metadata": {
        "id": "zBKuI0viUY0M",
        "colab": {
          "base_uri": "https://localhost:8080/"
        },
        "outputId": "e57878d5-f0a8-4830-907d-0024368c965e"
      },
      "source": [
        "#looking at the unique stem words to find how to categorize \n",
        "list1 = []\n",
        "for query in data[\"purpose\"].unique():\n",
        "    for word in query.split(\" \"):\n",
        "        stemmed_word = english_stemmer.stem(word)\n",
        "        if stemmed_word != 'a' and stemmed_word != 'of' and stemmed_word != 'the' and stemmed_word != 'to' and stemmed_word != 'for'  and stemmed_word != 'an':\n",
        "          list1.append(stemmed_word)\n",
        "unique(list1)"
      ],
      "execution_count": 17,
      "outputs": [
        {
          "output_type": "execute_result",
          "data": {
            "text/plain": [
              "['purchas',\n",
              " 'hous',\n",
              " 'car',\n",
              " 'supplementari',\n",
              " 'educ',\n",
              " 'have',\n",
              " 'wed',\n",
              " 'transact',\n",
              " 'my',\n",
              " 'famili',\n",
              " 'buy',\n",
              " 'real',\n",
              " 'estat',\n",
              " 'commerci',\n",
              " 'residenti',\n",
              " 'construct',\n",
              " 'own',\n",
              " 'properti',\n",
              " 'build',\n",
              " 'second-hand',\n",
              " 'with',\n",
              " 'becom',\n",
              " 'get',\n",
              " 'ceremoni',\n",
              " 'higher',\n",
              " 'profil',\n",
              " 'univers',\n",
              " 'rent',\n",
              " 'out',\n",
              " 'renov',\n",
              " 'go']"
            ]
          },
          "metadata": {
            "tags": []
          },
          "execution_count": 17
        }
      ]
    },
    {
      "cell_type": "code",
      "metadata": {
        "id": "9y8PgjMyJiYV"
      },
      "source": [
        "#create a new column of the description of the purpose of the porches for an easy categorization\n",
        "def purpose_stem(row):\n",
        "  purpose =  row[\"purpose\"]\n",
        "  for word in purpose.split(\" \"):\n",
        "      stemmed_word = english_stemmer.stem(word)\n",
        "      if stemmed_word == 'estat' or stemmed_word == 'hous' or stemmed_word == 'properti':\n",
        "          return \"real estate\"\n",
        "      elif stemmed_word == 'educ' or stemmed_word == \"univers\":\n",
        "        return \"education\"\n",
        "      elif stemmed_word == 'wed':\n",
        "        return \"wedding\"\n",
        "      elif stemmed_word == 'car':\n",
        "        return \"car\"\n",
        "\n",
        "data[\"purpose_stem\"] = data.apply(purpose_stem, axis=1)\n",
        "\n"
      ],
      "execution_count": 18,
      "outputs": []
    },
    {
      "cell_type": "code",
      "metadata": {
        "id": "nWRFmQDgvp_7",
        "colab": {
          "base_uri": "https://localhost:8080/"
        },
        "outputId": "6f3d0c4b-f12e-40ed-86b0-a6555f6120ff"
      },
      "source": [
        "data[\"purpose_stem\"].unique()\n"
      ],
      "execution_count": 19,
      "outputs": [
        {
          "output_type": "execute_result",
          "data": {
            "text/plain": [
              "array(['real estate', 'car', 'education', 'wedding'], dtype=object)"
            ]
          },
          "metadata": {
            "tags": []
          },
          "execution_count": 19
        }
      ]
    },
    {
      "cell_type": "code",
      "metadata": {
        "colab": {
          "base_uri": "https://localhost:8080/",
          "height": 297
        },
        "id": "kDGI1grrSsRf",
        "outputId": "b1a2efc1-9c2e-4e6c-f08d-788447ee8600"
      },
      "source": [
        "data.describe()"
      ],
      "execution_count": 20,
      "outputs": [
        {
          "output_type": "execute_result",
          "data": {
            "text/html": [
              "<div>\n",
              "<style scoped>\n",
              "    .dataframe tbody tr th:only-of-type {\n",
              "        vertical-align: middle;\n",
              "    }\n",
              "\n",
              "    .dataframe tbody tr th {\n",
              "        vertical-align: top;\n",
              "    }\n",
              "\n",
              "    .dataframe thead th {\n",
              "        text-align: right;\n",
              "    }\n",
              "</style>\n",
              "<table border=\"1\" class=\"dataframe\">\n",
              "  <thead>\n",
              "    <tr style=\"text-align: right;\">\n",
              "      <th></th>\n",
              "      <th>children</th>\n",
              "      <th>dob_years</th>\n",
              "      <th>education_id</th>\n",
              "      <th>family_status_id</th>\n",
              "      <th>debt</th>\n",
              "      <th>total_income</th>\n",
              "    </tr>\n",
              "  </thead>\n",
              "  <tbody>\n",
              "    <tr>\n",
              "      <th>count</th>\n",
              "      <td>21525.000000</td>\n",
              "      <td>21525.000000</td>\n",
              "      <td>21525.000000</td>\n",
              "      <td>21525.000000</td>\n",
              "      <td>21525.000000</td>\n",
              "      <td>21525.000000</td>\n",
              "    </tr>\n",
              "    <tr>\n",
              "      <th>mean</th>\n",
              "      <td>0.479721</td>\n",
              "      <td>43.293380</td>\n",
              "      <td>0.817236</td>\n",
              "      <td>0.972544</td>\n",
              "      <td>0.080883</td>\n",
              "      <td>26436.051922</td>\n",
              "    </tr>\n",
              "    <tr>\n",
              "      <th>std</th>\n",
              "      <td>0.755528</td>\n",
              "      <td>12.574584</td>\n",
              "      <td>0.548138</td>\n",
              "      <td>1.420324</td>\n",
              "      <td>0.272661</td>\n",
              "      <td>15686.986477</td>\n",
              "    </tr>\n",
              "    <tr>\n",
              "      <th>min</th>\n",
              "      <td>0.000000</td>\n",
              "      <td>0.000000</td>\n",
              "      <td>0.000000</td>\n",
              "      <td>0.000000</td>\n",
              "      <td>0.000000</td>\n",
              "      <td>3306.762000</td>\n",
              "    </tr>\n",
              "    <tr>\n",
              "      <th>25%</th>\n",
              "      <td>0.000000</td>\n",
              "      <td>33.000000</td>\n",
              "      <td>1.000000</td>\n",
              "      <td>0.000000</td>\n",
              "      <td>0.000000</td>\n",
              "      <td>17247.708000</td>\n",
              "    </tr>\n",
              "    <tr>\n",
              "      <th>50%</th>\n",
              "      <td>0.000000</td>\n",
              "      <td>42.000000</td>\n",
              "      <td>1.000000</td>\n",
              "      <td>0.000000</td>\n",
              "      <td>0.000000</td>\n",
              "      <td>22815.103500</td>\n",
              "    </tr>\n",
              "    <tr>\n",
              "      <th>75%</th>\n",
              "      <td>1.000000</td>\n",
              "      <td>53.000000</td>\n",
              "      <td>1.000000</td>\n",
              "      <td>1.000000</td>\n",
              "      <td>0.000000</td>\n",
              "      <td>31287.991000</td>\n",
              "    </tr>\n",
              "    <tr>\n",
              "      <th>max</th>\n",
              "      <td>5.000000</td>\n",
              "      <td>75.000000</td>\n",
              "      <td>4.000000</td>\n",
              "      <td>4.000000</td>\n",
              "      <td>1.000000</td>\n",
              "      <td>362496.645000</td>\n",
              "    </tr>\n",
              "  </tbody>\n",
              "</table>\n",
              "</div>"
            ],
            "text/plain": [
              "           children     dob_years  ...          debt   total_income\n",
              "count  21525.000000  21525.000000  ...  21525.000000   21525.000000\n",
              "mean       0.479721     43.293380  ...      0.080883   26436.051922\n",
              "std        0.755528     12.574584  ...      0.272661   15686.986477\n",
              "min        0.000000      0.000000  ...      0.000000    3306.762000\n",
              "25%        0.000000     33.000000  ...      0.000000   17247.708000\n",
              "50%        0.000000     42.000000  ...      0.000000   22815.103500\n",
              "75%        1.000000     53.000000  ...      0.000000   31287.991000\n",
              "max        5.000000     75.000000  ...      1.000000  362496.645000\n",
              "\n",
              "[8 rows x 6 columns]"
            ]
          },
          "metadata": {
            "tags": []
          },
          "execution_count": 20
        }
      ]
    },
    {
      "cell_type": "code",
      "metadata": {
        "id": "9WZdG2uXSQ0h"
      },
      "source": [
        "#create a new column  for income of the porches for an easy categorization\n",
        "#categorization income by the ta.describe() using the min, 25%, , 50% , 75% \n",
        "def income(row):\n",
        "  income = row[\"total_income\"]\n",
        "  if income <= 14179:\n",
        "      return \"low earner\"\n",
        "  elif 14179 < income <= 21683 :\n",
        "    return \"under average earner\"\n",
        "  elif  21683 < income <= 31287 :\n",
        "    return \"above average earner\"\n",
        "  elif income > 31287:\n",
        "     return \"high erner\"\n",
        "\n",
        "data[\"total_income_categorie\"] = data.apply(income, axis=1)\n"
      ],
      "execution_count": 21,
      "outputs": []
    },
    {
      "cell_type": "code",
      "metadata": {
        "colab": {
          "base_uri": "https://localhost:8080/"
        },
        "id": "ibkspnefSmUA",
        "outputId": "39043cd8-8c00-4ebe-a358-5af6e2be0c2f"
      },
      "source": [
        "data[\"total_income_categorie\"].unique()\n"
      ],
      "execution_count": 22,
      "outputs": [
        {
          "output_type": "execute_result",
          "data": {
            "text/plain": [
              "array(['high erner', 'under average earner', 'above average earner',\n",
              "       'low earner'], dtype=object)"
            ]
          },
          "metadata": {
            "tags": []
          },
          "execution_count": 22
        }
      ]
    },
    {
      "cell_type": "code",
      "metadata": {
        "id": "KECxhq3wuu4W",
        "colab": {
          "base_uri": "https://localhost:8080/"
        },
        "outputId": "a5c77ae9-ec98-44ce-ae1c-9b85bf2b36fe"
      },
      "source": [
        "#preparind child data for conclusion, loking at date repaimant gropt by number of children\n",
        "chiled_status = data.groupby(\"children\")[\"debt\"].value_counts()\n",
        "chiled_status"
      ],
      "execution_count": 23,
      "outputs": [
        {
          "output_type": "execute_result",
          "data": {
            "text/plain": [
              "children  debt\n",
              "0         0       13086\n",
              "          1        1063\n",
              "1         0        4420\n",
              "          1         445\n",
              "2         0        1929\n",
              "          1         202\n",
              "3         0         303\n",
              "          1          27\n",
              "4         0          37\n",
              "          1           4\n",
              "5         0           9\n",
              "Name: debt, dtype: int64"
            ]
          },
          "metadata": {
            "tags": []
          },
          "execution_count": 23
        }
      ]
    },
    {
      "cell_type": "markdown",
      "metadata": {
        "id": "3AMnPfRB1hrB"
      },
      "source": [
        "# **conclusion:**\n",
        "\n",
        "\n",
        "1.   remove column days employed\n",
        "2.   -1 child change to 1 child\n",
        "4. 20 children change to 2 children \n",
        "3. none in total income\tchanged it to the median bt income type\n",
        "4. change education to low case\n",
        "5. alter purpose for easy categorization\n",
        "\n",
        "\n",
        "\n",
        "\n",
        "\n"
      ]
    },
    {
      "cell_type": "markdown",
      "metadata": {
        "id": "KFkU7H_G8KDv"
      },
      "source": [
        "# **Step 3: Answer these questions**\n"
      ]
    },
    {
      "cell_type": "code",
      "metadata": {
        "id": "IjvmXdbrKdKl",
        "colab": {
          "base_uri": "https://localhost:8080/",
          "height": 235
        },
        "outputId": "72870819-e5ed-45b3-b9c2-29dd353b02b5"
      },
      "source": [
        "# Is there a connection between marital status and repaying a loan on time?\n",
        "family_status = pd.pivot_table(data, index = [\"family_status\"], columns = \"debt\", values = \"family_status_id\", aggfunc = \"count\", margins = True).reset_index()\n",
        "family_status[\"default_rate\"] = (family_status[1]/family_status[\"All\"])*100\n",
        "family_status"
      ],
      "execution_count": 24,
      "outputs": [
        {
          "output_type": "execute_result",
          "data": {
            "text/html": [
              "<div>\n",
              "<style scoped>\n",
              "    .dataframe tbody tr th:only-of-type {\n",
              "        vertical-align: middle;\n",
              "    }\n",
              "\n",
              "    .dataframe tbody tr th {\n",
              "        vertical-align: top;\n",
              "    }\n",
              "\n",
              "    .dataframe thead th {\n",
              "        text-align: right;\n",
              "    }\n",
              "</style>\n",
              "<table border=\"1\" class=\"dataframe\">\n",
              "  <thead>\n",
              "    <tr style=\"text-align: right;\">\n",
              "      <th>debt</th>\n",
              "      <th>family_status</th>\n",
              "      <th>0</th>\n",
              "      <th>1</th>\n",
              "      <th>All</th>\n",
              "      <th>default_rate</th>\n",
              "    </tr>\n",
              "  </thead>\n",
              "  <tbody>\n",
              "    <tr>\n",
              "      <th>0</th>\n",
              "      <td>civil partnership</td>\n",
              "      <td>3789</td>\n",
              "      <td>388</td>\n",
              "      <td>4177</td>\n",
              "      <td>9.288963</td>\n",
              "    </tr>\n",
              "    <tr>\n",
              "      <th>1</th>\n",
              "      <td>divorced</td>\n",
              "      <td>1110</td>\n",
              "      <td>85</td>\n",
              "      <td>1195</td>\n",
              "      <td>7.112971</td>\n",
              "    </tr>\n",
              "    <tr>\n",
              "      <th>2</th>\n",
              "      <td>married</td>\n",
              "      <td>11449</td>\n",
              "      <td>931</td>\n",
              "      <td>12380</td>\n",
              "      <td>7.520194</td>\n",
              "    </tr>\n",
              "    <tr>\n",
              "      <th>3</th>\n",
              "      <td>unmarried</td>\n",
              "      <td>2539</td>\n",
              "      <td>274</td>\n",
              "      <td>2813</td>\n",
              "      <td>9.740491</td>\n",
              "    </tr>\n",
              "    <tr>\n",
              "      <th>4</th>\n",
              "      <td>widow / widower</td>\n",
              "      <td>897</td>\n",
              "      <td>63</td>\n",
              "      <td>960</td>\n",
              "      <td>6.562500</td>\n",
              "    </tr>\n",
              "    <tr>\n",
              "      <th>5</th>\n",
              "      <td>All</td>\n",
              "      <td>19784</td>\n",
              "      <td>1741</td>\n",
              "      <td>21525</td>\n",
              "      <td>8.088269</td>\n",
              "    </tr>\n",
              "  </tbody>\n",
              "</table>\n",
              "</div>"
            ],
            "text/plain": [
              "debt      family_status      0     1    All  default_rate\n",
              "0     civil partnership   3789   388   4177      9.288963\n",
              "1              divorced   1110    85   1195      7.112971\n",
              "2               married  11449   931  12380      7.520194\n",
              "3             unmarried   2539   274   2813      9.740491\n",
              "4       widow / widower    897    63    960      6.562500\n",
              "5                   All  19784  1741  21525      8.088269"
            ]
          },
          "metadata": {
            "tags": []
          },
          "execution_count": 24
        }
      ]
    },
    {
      "cell_type": "code",
      "metadata": {
        "colab": {
          "base_uri": "https://localhost:8080/",
          "height": 370
        },
        "id": "RmWPp6mu2hR8",
        "outputId": "1a26c8c8-1182-482a-9fe8-57feb4c364f5"
      },
      "source": [
        "family_status.plot(x = \"family_status\", y = \"default_rate\", kind = \"bar\")"
      ],
      "execution_count": 25,
      "outputs": [
        {
          "output_type": "execute_result",
          "data": {
            "text/plain": [
              "<matplotlib.axes._subplots.AxesSubplot at 0x7f354c64ce10>"
            ]
          },
          "metadata": {
            "tags": []
          },
          "execution_count": 25
        },
        {
          "output_type": "display_data",
          "data": {
            "image/png": "[encoded data removed]",
            "text/plain": [
              "<Figure size 432x288 with 1 Axes>"
            ]
          },
          "metadata": {
            "tags": [],
            "needs_background": "light"
          }
        }
      ]
    },
    {
      "cell_type": "markdown",
      "metadata": {
        "id": "8TfnIKna23RD"
      },
      "source": [
        "1. Is there a connection between marital status and repaying a loan on time?\n",
        "  *   yes, in the graph we can see that widow / widower default rate is the "
      ]
    },
    {
      "cell_type": "code",
      "metadata": {
        "id": "ICubRLn31u1r",
        "colab": {
          "base_uri": "https://localhost:8080/",
          "height": 235
        },
        "outputId": "eb928e54-2f27-4971-a1a4-18cbbe70a6bc"
      },
      "source": [
        "# added this one myself, Is there a connection between education status and repaying a loan on time?\n",
        "education_status = pd.pivot_table(data, index = [\"education\"], columns = \"debt\", values = \"education_id\", aggfunc = \"count\", margins = True).reset_index()\n",
        "education_status[1] = education_status[1] .fillna(0)\n",
        "education_status[\"default_rate\"] = (education_status[1]/education_status[\"All\"])*100\n",
        "education_status"
      ],
      "execution_count": 26,
      "outputs": [
        {
          "output_type": "execute_result",
          "data": {
            "text/html": [
              "<div>\n",
              "<style scoped>\n",
              "    .dataframe tbody tr th:only-of-type {\n",
              "        vertical-align: middle;\n",
              "    }\n",
              "\n",
              "    .dataframe tbody tr th {\n",
              "        vertical-align: top;\n",
              "    }\n",
              "\n",
              "    .dataframe thead th {\n",
              "        text-align: right;\n",
              "    }\n",
              "</style>\n",
              "<table border=\"1\" class=\"dataframe\">\n",
              "  <thead>\n",
              "    <tr style=\"text-align: right;\">\n",
              "      <th>debt</th>\n",
              "      <th>education</th>\n",
              "      <th>0</th>\n",
              "      <th>1</th>\n",
              "      <th>All</th>\n",
              "      <th>default_rate</th>\n",
              "    </tr>\n",
              "  </thead>\n",
              "  <tbody>\n",
              "    <tr>\n",
              "      <th>0</th>\n",
              "      <td>bachelor's degree</td>\n",
              "      <td>4982.0</td>\n",
              "      <td>278.0</td>\n",
              "      <td>5260</td>\n",
              "      <td>5.285171</td>\n",
              "    </tr>\n",
              "    <tr>\n",
              "      <th>1</th>\n",
              "      <td>graduate degree</td>\n",
              "      <td>6.0</td>\n",
              "      <td>0.0</td>\n",
              "      <td>6</td>\n",
              "      <td>0.000000</td>\n",
              "    </tr>\n",
              "    <tr>\n",
              "      <th>2</th>\n",
              "      <td>primary education</td>\n",
              "      <td>251.0</td>\n",
              "      <td>31.0</td>\n",
              "      <td>282</td>\n",
              "      <td>10.992908</td>\n",
              "    </tr>\n",
              "    <tr>\n",
              "      <th>3</th>\n",
              "      <td>secondary education</td>\n",
              "      <td>13869.0</td>\n",
              "      <td>1364.0</td>\n",
              "      <td>15233</td>\n",
              "      <td>8.954244</td>\n",
              "    </tr>\n",
              "    <tr>\n",
              "      <th>4</th>\n",
              "      <td>some college</td>\n",
              "      <td>676.0</td>\n",
              "      <td>68.0</td>\n",
              "      <td>744</td>\n",
              "      <td>9.139785</td>\n",
              "    </tr>\n",
              "    <tr>\n",
              "      <th>5</th>\n",
              "      <td>All</td>\n",
              "      <td>19784.0</td>\n",
              "      <td>1741.0</td>\n",
              "      <td>21525</td>\n",
              "      <td>8.088269</td>\n",
              "    </tr>\n",
              "  </tbody>\n",
              "</table>\n",
              "</div>"
            ],
            "text/plain": [
              "debt            education        0       1    All  default_rate\n",
              "0       bachelor's degree   4982.0   278.0   5260      5.285171\n",
              "1         graduate degree      6.0     0.0      6      0.000000\n",
              "2       primary education    251.0    31.0    282     10.992908\n",
              "3     secondary education  13869.0  1364.0  15233      8.954244\n",
              "4            some college    676.0    68.0    744      9.139785\n",
              "5                     All  19784.0  1741.0  21525      8.088269"
            ]
          },
          "metadata": {
            "tags": []
          },
          "execution_count": 26
        }
      ]
    },
    {
      "cell_type": "code",
      "metadata": {
        "colab": {
          "base_uri": "https://localhost:8080/",
          "height": 391
        },
        "id": "E76q4IUK2lf3",
        "outputId": "6ec4f282-0859-4778-a5df-71b33d43e190"
      },
      "source": [
        "education_status.plot(x = \"education\", y = \"default_rate\", kind = \"bar\")"
      ],
      "execution_count": 27,
      "outputs": [
        {
          "output_type": "execute_result",
          "data": {
            "text/plain": [
              "<matplotlib.axes._subplots.AxesSubplot at 0x7f354c548550>"
            ]
          },
          "metadata": {
            "tags": []
          },
          "execution_count": 27
        },
        {
          "output_type": "display_data",
          "data": {
            "image/png": "[encoded data removed]",
            "text/plain": [
              "<Figure size 432x288 with 1 Axes>"
            ]
          },
          "metadata": {
            "tags": [],
            "needs_background": "light"
          }
        }
      ]
    },
    {
      "cell_type": "markdown",
      "metadata": {
        "id": "mkyW2Xyf3C5w"
      },
      "source": [
        "2. added this one myself, Is there a connection between education status and repaying a loan on time?\n",
        "  *   yes, in the graph we can see that people with bachelor's degree default rate is the lowest and primary education is the highest\n",
        "  * and i feel like we don't have enough information on graduate degree\tbecause the sample size is too small"
      ]
    },
    {
      "cell_type": "code",
      "metadata": {
        "colab": {
          "base_uri": "https://localhost:8080/",
          "height": 204
        },
        "id": "8hluXlyUMgnk",
        "outputId": "14ce638d-8163-4938-8072-49bbe60fc8b1"
      },
      "source": [
        "#How do different loan purposes affect on-time loan repayment?\n",
        "purpose_status = pd.pivot_table(data, index = [\"purpose_stem\"], columns = \"debt\", values = \"purpose\", aggfunc = \"count\", margins = True).reset_index()\n",
        "purpose_status[\"default_rate\"] = (purpose_status[1]/purpose_status[\"All\"])*100\n",
        "purpose_status"
      ],
      "execution_count": 28,
      "outputs": [
        {
          "output_type": "execute_result",
          "data": {
            "text/html": [
              "<div>\n",
              "<style scoped>\n",
              "    .dataframe tbody tr th:only-of-type {\n",
              "        vertical-align: middle;\n",
              "    }\n",
              "\n",
              "    .dataframe tbody tr th {\n",
              "        vertical-align: top;\n",
              "    }\n",
              "\n",
              "    .dataframe thead th {\n",
              "        text-align: right;\n",
              "    }\n",
              "</style>\n",
              "<table border=\"1\" class=\"dataframe\">\n",
              "  <thead>\n",
              "    <tr style=\"text-align: right;\">\n",
              "      <th>debt</th>\n",
              "      <th>purpose_stem</th>\n",
              "      <th>0</th>\n",
              "      <th>1</th>\n",
              "      <th>All</th>\n",
              "      <th>default_rate</th>\n",
              "    </tr>\n",
              "  </thead>\n",
              "  <tbody>\n",
              "    <tr>\n",
              "      <th>0</th>\n",
              "      <td>car</td>\n",
              "      <td>3912</td>\n",
              "      <td>403</td>\n",
              "      <td>4315</td>\n",
              "      <td>9.339513</td>\n",
              "    </tr>\n",
              "    <tr>\n",
              "      <th>1</th>\n",
              "      <td>education</td>\n",
              "      <td>3652</td>\n",
              "      <td>370</td>\n",
              "      <td>4022</td>\n",
              "      <td>9.199403</td>\n",
              "    </tr>\n",
              "    <tr>\n",
              "      <th>2</th>\n",
              "      <td>real estate</td>\n",
              "      <td>10058</td>\n",
              "      <td>782</td>\n",
              "      <td>10840</td>\n",
              "      <td>7.214022</td>\n",
              "    </tr>\n",
              "    <tr>\n",
              "      <th>3</th>\n",
              "      <td>wedding</td>\n",
              "      <td>2162</td>\n",
              "      <td>186</td>\n",
              "      <td>2348</td>\n",
              "      <td>7.921635</td>\n",
              "    </tr>\n",
              "    <tr>\n",
              "      <th>4</th>\n",
              "      <td>All</td>\n",
              "      <td>19784</td>\n",
              "      <td>1741</td>\n",
              "      <td>21525</td>\n",
              "      <td>8.088269</td>\n",
              "    </tr>\n",
              "  </tbody>\n",
              "</table>\n",
              "</div>"
            ],
            "text/plain": [
              "debt purpose_stem      0     1    All  default_rate\n",
              "0             car   3912   403   4315      9.339513\n",
              "1       education   3652   370   4022      9.199403\n",
              "2     real estate  10058   782  10840      7.214022\n",
              "3         wedding   2162   186   2348      7.921635\n",
              "4             All  19784  1741  21525      8.088269"
            ]
          },
          "metadata": {
            "tags": []
          },
          "execution_count": 28
        }
      ]
    },
    {
      "cell_type": "code",
      "metadata": {
        "colab": {
          "base_uri": "https://localhost:8080/",
          "height": 340
        },
        "id": "8oo0TrjX2mQQ",
        "outputId": "ebd60e26-5325-428d-e75c-f8d50c83f4da"
      },
      "source": [
        "purpose_status.plot(x = \"purpose_stem\", y = \"default_rate\", kind = \"bar\")"
      ],
      "execution_count": 29,
      "outputs": [
        {
          "output_type": "execute_result",
          "data": {
            "text/plain": [
              "<matplotlib.axes._subplots.AxesSubplot at 0x7f354d269dd0>"
            ]
          },
          "metadata": {
            "tags": []
          },
          "execution_count": 29
        },
        {
          "output_type": "display_data",
          "data": {
            "image/png": "[encoded data removed]",
            "text/plain": [
              "<Figure size 432x288 with 1 Axes>"
            ]
          },
          "metadata": {
            "tags": [],
            "needs_background": "light"
          }
        }
      ]
    },
    {
      "cell_type": "markdown",
      "metadata": {
        "id": "TFJ7dXz03HcN"
      },
      "source": [
        "3. How do different loan purposes affect on-time loan repayment?\n",
        "  *   yes, in the graph we can see that real estate default rate is the lowest and car is the highest"
      ]
    },
    {
      "cell_type": "code",
      "metadata": {
        "colab": {
          "base_uri": "https://localhost:8080/",
          "height": 204
        },
        "id": "wp0qkrG0RVby",
        "outputId": "4f4586cc-8fc4-4146-f50e-d60678aac085"
      },
      "source": [
        "#Is there a connection between income level and repaying a loan on time?\n",
        "income_status= pd.pivot_table(data, index = [\"total_income_categorie\"], columns = \"debt\", values= \"total_income\", aggfunc = \"count\", margins = True).reset_index()\n",
        "income_status[\"default_rate\"] = (income_status[1]/income_status[\"All\"])*100\n",
        "income_status"
      ],
      "execution_count": 30,
      "outputs": [
        {
          "output_type": "execute_result",
          "data": {
            "text/html": [
              "<div>\n",
              "<style scoped>\n",
              "    .dataframe tbody tr th:only-of-type {\n",
              "        vertical-align: middle;\n",
              "    }\n",
              "\n",
              "    .dataframe tbody tr th {\n",
              "        vertical-align: top;\n",
              "    }\n",
              "\n",
              "    .dataframe thead th {\n",
              "        text-align: right;\n",
              "    }\n",
              "</style>\n",
              "<table border=\"1\" class=\"dataframe\">\n",
              "  <thead>\n",
              "    <tr style=\"text-align: right;\">\n",
              "      <th>debt</th>\n",
              "      <th>total_income_categorie</th>\n",
              "      <th>0</th>\n",
              "      <th>1</th>\n",
              "      <th>All</th>\n",
              "      <th>default_rate</th>\n",
              "    </tr>\n",
              "  </thead>\n",
              "  <tbody>\n",
              "    <tr>\n",
              "      <th>0</th>\n",
              "      <td>above average earner</td>\n",
              "      <td>6520</td>\n",
              "      <td>621</td>\n",
              "      <td>7141</td>\n",
              "      <td>8.696261</td>\n",
              "    </tr>\n",
              "    <tr>\n",
              "      <th>1</th>\n",
              "      <td>high erner</td>\n",
              "      <td>4996</td>\n",
              "      <td>386</td>\n",
              "      <td>5382</td>\n",
              "      <td>7.172055</td>\n",
              "    </tr>\n",
              "    <tr>\n",
              "      <th>2</th>\n",
              "      <td>low earner</td>\n",
              "      <td>2962</td>\n",
              "      <td>247</td>\n",
              "      <td>3209</td>\n",
              "      <td>7.697102</td>\n",
              "    </tr>\n",
              "    <tr>\n",
              "      <th>3</th>\n",
              "      <td>under average earner</td>\n",
              "      <td>5306</td>\n",
              "      <td>487</td>\n",
              "      <td>5793</td>\n",
              "      <td>8.406698</td>\n",
              "    </tr>\n",
              "    <tr>\n",
              "      <th>4</th>\n",
              "      <td>All</td>\n",
              "      <td>19784</td>\n",
              "      <td>1741</td>\n",
              "      <td>21525</td>\n",
              "      <td>8.088269</td>\n",
              "    </tr>\n",
              "  </tbody>\n",
              "</table>\n",
              "</div>"
            ],
            "text/plain": [
              "debt total_income_categorie      0     1    All  default_rate\n",
              "0      above average earner   6520   621   7141      8.696261\n",
              "1                high erner   4996   386   5382      7.172055\n",
              "2                low earner   2962   247   3209      7.697102\n",
              "3      under average earner   5306   487   5793      8.406698\n",
              "4                       All  19784  1741  21525      8.088269"
            ]
          },
          "metadata": {
            "tags": []
          },
          "execution_count": 30
        }
      ]
    },
    {
      "cell_type": "code",
      "metadata": {
        "colab": {
          "base_uri": "https://localhost:8080/",
          "height": 398
        },
        "id": "sglnyLBV2rtV",
        "outputId": "ce617ea6-94d9-4800-891b-b89d54a142f2"
      },
      "source": [
        "income_status.plot(x = \"total_income_categorie\", y = \"default_rate\", kind = \"bar\")"
      ],
      "execution_count": 31,
      "outputs": [
        {
          "output_type": "execute_result",
          "data": {
            "text/plain": [
              "<matplotlib.axes._subplots.AxesSubplot at 0x7f354d303650>"
            ]
          },
          "metadata": {
            "tags": []
          },
          "execution_count": 31
        },
        {
          "output_type": "display_data",
          "data": {
            "image/png": "[encoded data removed]",
            "text/plain": [
              "<Figure size 432x288 with 1 Axes>"
            ]
          },
          "metadata": {
            "tags": [],
            "needs_background": "light"
          }
        }
      ]
    },
    {
      "cell_type": "markdown",
      "metadata": {
        "id": "uFOlstL63VG1"
      },
      "source": [
        ". Is there a connection between income level and repaying a loan on time?\n",
        "  *   yes but the conacshen is not that strong, in the graph we can see that high erner default rate is the lowest and above average earner is the highest(should look at it as it contradicts intuition)"
      ]
    },
    {
      "cell_type": "code",
      "metadata": {
        "colab": {
          "base_uri": "https://localhost:8080/",
          "height": 266
        },
        "id": "TwT7INR1aU_l",
        "outputId": "fa83ab0d-6012-4071-a54d-db1484be877e"
      },
      "source": [
        "#Is there a connection between having kids and repaying a loan on time?\n",
        "#i created a new tabel withe the number of children and the default_rate usind chiled_status vairbal i created before\n",
        "num_of_children = [0, 1, 2, 3 ,4 ,5]\n",
        "children_default_rate = []\n",
        "all = 0\n",
        "for i in range(len(num_of_children)):\n",
        "  if i != 5:\n",
        "     children_default_rate.append([i, (chiled_status[i][1]/chiled_status[i][0])*100])\n",
        "     all += (chiled_status[i][1]/chiled_status[i][0])*100\n",
        "  else:\n",
        "    children_default_rate.append([5, 0])\n",
        "children_default_rate.append([\"ALL\", all/5])\n",
        "children_status = pd.DataFrame(children_default_rate, columns = ['children', \"default_rate\"])\n",
        "children_status\n",
        "#i dont feel like this is the most elagent way to solve this problem, any suggestion for better algorithm?"
      ],
      "execution_count": 32,
      "outputs": [
        {
          "output_type": "execute_result",
          "data": {
            "text/html": [
              "<div>\n",
              "<style scoped>\n",
              "    .dataframe tbody tr th:only-of-type {\n",
              "        vertical-align: middle;\n",
              "    }\n",
              "\n",
              "    .dataframe tbody tr th {\n",
              "        vertical-align: top;\n",
              "    }\n",
              "\n",
              "    .dataframe thead th {\n",
              "        text-align: right;\n",
              "    }\n",
              "</style>\n",
              "<table border=\"1\" class=\"dataframe\">\n",
              "  <thead>\n",
              "    <tr style=\"text-align: right;\">\n",
              "      <th></th>\n",
              "      <th>children</th>\n",
              "      <th>default_rate</th>\n",
              "    </tr>\n",
              "  </thead>\n",
              "  <tbody>\n",
              "    <tr>\n",
              "      <th>0</th>\n",
              "      <td>0</td>\n",
              "      <td>8.123185</td>\n",
              "    </tr>\n",
              "    <tr>\n",
              "      <th>1</th>\n",
              "      <td>1</td>\n",
              "      <td>10.067873</td>\n",
              "    </tr>\n",
              "    <tr>\n",
              "      <th>2</th>\n",
              "      <td>2</td>\n",
              "      <td>10.471747</td>\n",
              "    </tr>\n",
              "    <tr>\n",
              "      <th>3</th>\n",
              "      <td>3</td>\n",
              "      <td>8.910891</td>\n",
              "    </tr>\n",
              "    <tr>\n",
              "      <th>4</th>\n",
              "      <td>4</td>\n",
              "      <td>10.810811</td>\n",
              "    </tr>\n",
              "    <tr>\n",
              "      <th>5</th>\n",
              "      <td>5</td>\n",
              "      <td>0.000000</td>\n",
              "    </tr>\n",
              "    <tr>\n",
              "      <th>6</th>\n",
              "      <td>ALL</td>\n",
              "      <td>9.676901</td>\n",
              "    </tr>\n",
              "  </tbody>\n",
              "</table>\n",
              "</div>"
            ],
            "text/plain": [
              "  children  default_rate\n",
              "0        0      8.123185\n",
              "1        1     10.067873\n",
              "2        2     10.471747\n",
              "3        3      8.910891\n",
              "4        4     10.810811\n",
              "5        5      0.000000\n",
              "6      ALL      9.676901"
            ]
          },
          "metadata": {
            "tags": []
          },
          "execution_count": 32
        }
      ]
    },
    {
      "cell_type": "code",
      "metadata": {
        "colab": {
          "base_uri": "https://localhost:8080/",
          "height": 304
        },
        "id": "ScF_w3IS2u--",
        "outputId": "555eace7-03bb-43c0-ef38-1bd7863cfa65"
      },
      "source": [
        "children_status.plot(x = \"children\" , y = \"default_rate\", kind = \"bar\")"
      ],
      "execution_count": 33,
      "outputs": [
        {
          "output_type": "execute_result",
          "data": {
            "text/plain": [
              "<matplotlib.axes._subplots.AxesSubplot at 0x7f354c6f6b90>"
            ]
          },
          "metadata": {
            "tags": []
          },
          "execution_count": 33
        },
        {
          "output_type": "display_data",
          "data": {
            "image/png": "[encoded data removed]",
            "text/plain": [
              "<Figure size 432x288 with 1 Axes>"
            ]
          },
          "metadata": {
            "tags": [],
            "needs_background": "light"
          }
        }
      ]
    },
    {
      "cell_type": "markdown",
      "metadata": {
        "id": "zXKohnoN3mRc"
      },
      "source": [
        "5. Is there a connection between having kids and repaying a loan on time?\n",
        "  *   yes, in the graph we can see that no children an 1 child default rate is the lowest and 4 children is the highest(should look at it as it contradicts intuition)\n",
        "  * and i feel like we don't have enough information on 5 children because the sample size is too small"
      ]
    },
    {
      "cell_type": "markdown",
      "metadata": {
        "id": "tf7srOvGcvcs"
      },
      "source": [
        "# **Step 4: Write an overall conclusion**"
      ]
    },
    {
      "cell_type": "markdown",
      "metadata": {
        "id": "Zka4Ni38cyFg"
      },
      "source": [
        "1.   remove column days employed\n",
        "2.   -1 child change to 1 child\n",
        "4. 20 children change to 2 children \n",
        "3. none in total income\tchanged it to the median bt income type\n",
        "4. change education to low case\n",
        "5. alter purpose for easy categorization\n",
        "6. created pivot tables for every question I researched and a graph\n",
        "\n",
        "\n",
        "\n",
        "\n"
      ]
    }
  ]
}